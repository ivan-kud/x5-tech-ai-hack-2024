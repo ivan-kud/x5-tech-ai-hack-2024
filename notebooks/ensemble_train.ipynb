{
 "cells": [
  {
   "cell_type": "markdown",
   "metadata": {},
   "source": [
    "# Setup"
   ]
  },
  {
   "cell_type": "code",
   "execution_count": 1,
   "metadata": {
    "execution": {
     "iopub.execute_input": "2024-04-02T07:49:40.798326Z",
     "iopub.status.busy": "2024-04-02T07:49:40.798072Z",
     "iopub.status.idle": "2024-04-02T07:49:40.804342Z",
     "shell.execute_reply": "2024-04-02T07:49:40.803867Z"
    }
   },
   "outputs": [],
   "source": [
    "import os\n",
    "\n",
    "os.environ[\"CUDA_DEVICE_ORDER\"] = \"PCI_BUS_ID\"\n",
    "os.environ[\"CUDA_VISIBLE_DEVICES\"] = \"1,6,7\""
   ]
  },
  {
   "cell_type": "code",
   "execution_count": 2,
   "metadata": {
    "execution": {
     "iopub.execute_input": "2024-04-02T07:49:40.806742Z",
     "iopub.status.busy": "2024-04-02T07:49:40.806483Z",
     "iopub.status.idle": "2024-04-02T07:49:41.992214Z",
     "shell.execute_reply": "2024-04-02T07:49:41.991640Z"
    }
   },
   "outputs": [],
   "source": [
    "from pathlib import Path\n",
    "import statistics\n",
    "\n",
    "import pandas as pd\n",
    "from sklearn.metrics import accuracy_score\n",
    "from sklearn.model_selection import RepeatedStratifiedKFold\n",
    "\n",
    "import catboost as cb\n",
    "import optuna"
   ]
  },
  {
   "cell_type": "code",
   "execution_count": 3,
   "metadata": {
    "execution": {
     "iopub.execute_input": "2024-04-02T07:49:41.995372Z",
     "iopub.status.busy": "2024-04-02T07:49:41.995035Z",
     "iopub.status.idle": "2024-04-02T07:49:42.000176Z",
     "shell.execute_reply": "2024-04-02T07:49:41.999685Z"
    }
   },
   "outputs": [],
   "source": [
    "AUTO_FIND_HYPERPARAMETERS = False\n",
    "MANUAL_FIND_HYPERPARAMETERS = True\n",
    "EVALUATE_ON_VAL = True\n",
    "\n",
    "RANDOM_SEED = 42\n",
    "\n",
    "TRAIN_DATA_PATH = Path('../metamodel/train-data/')\n",
    "METAMODEL_PATH = Path('../metamodel/')"
   ]
  },
  {
   "cell_type": "markdown",
   "metadata": {},
   "source": [
    "# Load data"
   ]
  },
  {
   "cell_type": "code",
   "execution_count": 4,
   "metadata": {
    "execution": {
     "iopub.execute_input": "2024-04-02T07:49:42.002713Z",
     "iopub.status.busy": "2024-04-02T07:49:42.002435Z",
     "iopub.status.idle": "2024-04-02T07:49:42.119461Z",
     "shell.execute_reply": "2024-04-02T07:49:42.118845Z"
    }
   },
   "outputs": [
    {
     "data": {
      "text/html": [
       "<div>\n",
       "<style scoped>\n",
       "    .dataframe tbody tr th:only-of-type {\n",
       "        vertical-align: middle;\n",
       "    }\n",
       "\n",
       "    .dataframe tbody tr th {\n",
       "        vertical-align: top;\n",
       "    }\n",
       "\n",
       "    .dataframe thead th {\n",
       "        text-align: right;\n",
       "    }\n",
       "</style>\n",
       "<table border=\"1\" class=\"dataframe\">\n",
       "  <thead>\n",
       "    <tr style=\"text-align: right;\">\n",
       "      <th></th>\n",
       "      <th>s_len</th>\n",
       "      <th>q_len</th>\n",
       "      <th>a_len</th>\n",
       "      <th>p(Contr)_ivankud-deberta-v2-xlarge-mnli</th>\n",
       "      <th>p(Entl)_ivankud-deberta-v2-xlarge-mnli</th>\n",
       "      <th>p(Contr)_ivankud-deberta-v3-large-tasksource-nli</th>\n",
       "      <th>p(Entl)_ivankud-deberta-v3-large-tasksource-nli</th>\n",
       "      <th>p(Contr)_ivankud-DeBERTa-v3-large-mnli-fever-anli-ling-wanli</th>\n",
       "      <th>p(Entl)_ivankud-DeBERTa-v3-large-mnli-fever-anli-ling-wanli</th>\n",
       "    </tr>\n",
       "    <tr>\n",
       "      <th>line_id</th>\n",
       "      <th></th>\n",
       "      <th></th>\n",
       "      <th></th>\n",
       "      <th></th>\n",
       "      <th></th>\n",
       "      <th></th>\n",
       "      <th></th>\n",
       "      <th></th>\n",
       "      <th></th>\n",
       "    </tr>\n",
       "  </thead>\n",
       "  <tbody>\n",
       "    <tr>\n",
       "      <th>0</th>\n",
       "      <td>254</td>\n",
       "      <td>70</td>\n",
       "      <td>13</td>\n",
       "      <td>0.997253</td>\n",
       "      <td>0.002425</td>\n",
       "      <td>0.995231</td>\n",
       "      <td>0.003330</td>\n",
       "      <td>0.999554</td>\n",
       "      <td>0.000191</td>\n",
       "    </tr>\n",
       "    <tr>\n",
       "      <th>1</th>\n",
       "      <td>293</td>\n",
       "      <td>48</td>\n",
       "      <td>18</td>\n",
       "      <td>0.056191</td>\n",
       "      <td>0.942184</td>\n",
       "      <td>0.015380</td>\n",
       "      <td>0.983818</td>\n",
       "      <td>0.004416</td>\n",
       "      <td>0.995197</td>\n",
       "    </tr>\n",
       "    <tr>\n",
       "      <th>2</th>\n",
       "      <td>119</td>\n",
       "      <td>31</td>\n",
       "      <td>8</td>\n",
       "      <td>0.998265</td>\n",
       "      <td>0.001616</td>\n",
       "      <td>0.998759</td>\n",
       "      <td>0.000613</td>\n",
       "      <td>0.999784</td>\n",
       "      <td>0.000111</td>\n",
       "    </tr>\n",
       "    <tr>\n",
       "      <th>3</th>\n",
       "      <td>392</td>\n",
       "      <td>23</td>\n",
       "      <td>5</td>\n",
       "      <td>0.998025</td>\n",
       "      <td>0.001826</td>\n",
       "      <td>0.998977</td>\n",
       "      <td>0.000590</td>\n",
       "      <td>0.999668</td>\n",
       "      <td>0.000289</td>\n",
       "    </tr>\n",
       "    <tr>\n",
       "      <th>4</th>\n",
       "      <td>384</td>\n",
       "      <td>14</td>\n",
       "      <td>162</td>\n",
       "      <td>0.998225</td>\n",
       "      <td>0.001599</td>\n",
       "      <td>0.998350</td>\n",
       "      <td>0.001113</td>\n",
       "      <td>0.999649</td>\n",
       "      <td>0.000311</td>\n",
       "    </tr>\n",
       "    <tr>\n",
       "      <th>...</th>\n",
       "      <td>...</td>\n",
       "      <td>...</td>\n",
       "      <td>...</td>\n",
       "      <td>...</td>\n",
       "      <td>...</td>\n",
       "      <td>...</td>\n",
       "      <td>...</td>\n",
       "      <td>...</td>\n",
       "      <td>...</td>\n",
       "    </tr>\n",
       "    <tr>\n",
       "      <th>1045</th>\n",
       "      <td>216</td>\n",
       "      <td>36</td>\n",
       "      <td>41</td>\n",
       "      <td>0.029893</td>\n",
       "      <td>0.968082</td>\n",
       "      <td>0.016454</td>\n",
       "      <td>0.982488</td>\n",
       "      <td>0.051092</td>\n",
       "      <td>0.947630</td>\n",
       "    </tr>\n",
       "    <tr>\n",
       "      <th>1046</th>\n",
       "      <td>534</td>\n",
       "      <td>65</td>\n",
       "      <td>16</td>\n",
       "      <td>0.998526</td>\n",
       "      <td>0.001298</td>\n",
       "      <td>0.998351</td>\n",
       "      <td>0.001386</td>\n",
       "      <td>0.998442</td>\n",
       "      <td>0.001362</td>\n",
       "    </tr>\n",
       "    <tr>\n",
       "      <th>1047</th>\n",
       "      <td>120</td>\n",
       "      <td>25</td>\n",
       "      <td>11</td>\n",
       "      <td>0.999248</td>\n",
       "      <td>0.000674</td>\n",
       "      <td>0.998958</td>\n",
       "      <td>0.000773</td>\n",
       "      <td>0.998919</td>\n",
       "      <td>0.000903</td>\n",
       "    </tr>\n",
       "    <tr>\n",
       "      <th>1048</th>\n",
       "      <td>335</td>\n",
       "      <td>39</td>\n",
       "      <td>61</td>\n",
       "      <td>0.998635</td>\n",
       "      <td>0.001146</td>\n",
       "      <td>0.998697</td>\n",
       "      <td>0.000720</td>\n",
       "      <td>0.998234</td>\n",
       "      <td>0.001385</td>\n",
       "    </tr>\n",
       "    <tr>\n",
       "      <th>1049</th>\n",
       "      <td>153</td>\n",
       "      <td>91</td>\n",
       "      <td>5</td>\n",
       "      <td>0.028728</td>\n",
       "      <td>0.968740</td>\n",
       "      <td>0.001330</td>\n",
       "      <td>0.997932</td>\n",
       "      <td>0.009113</td>\n",
       "      <td>0.989952</td>\n",
       "    </tr>\n",
       "  </tbody>\n",
       "</table>\n",
       "<p>1050 rows × 9 columns</p>\n",
       "</div>"
      ],
      "text/plain": [
       "         s_len  q_len  a_len  p(Contr)_ivankud-deberta-v2-xlarge-mnli  \\\n",
       "line_id                                                                 \n",
       "0          254     70     13                                 0.997253   \n",
       "1          293     48     18                                 0.056191   \n",
       "2          119     31      8                                 0.998265   \n",
       "3          392     23      5                                 0.998025   \n",
       "4          384     14    162                                 0.998225   \n",
       "...        ...    ...    ...                                      ...   \n",
       "1045       216     36     41                                 0.029893   \n",
       "1046       534     65     16                                 0.998526   \n",
       "1047       120     25     11                                 0.999248   \n",
       "1048       335     39     61                                 0.998635   \n",
       "1049       153     91      5                                 0.028728   \n",
       "\n",
       "         p(Entl)_ivankud-deberta-v2-xlarge-mnli  \\\n",
       "line_id                                           \n",
       "0                                      0.002425   \n",
       "1                                      0.942184   \n",
       "2                                      0.001616   \n",
       "3                                      0.001826   \n",
       "4                                      0.001599   \n",
       "...                                         ...   \n",
       "1045                                   0.968082   \n",
       "1046                                   0.001298   \n",
       "1047                                   0.000674   \n",
       "1048                                   0.001146   \n",
       "1049                                   0.968740   \n",
       "\n",
       "         p(Contr)_ivankud-deberta-v3-large-tasksource-nli  \\\n",
       "line_id                                                     \n",
       "0                                                0.995231   \n",
       "1                                                0.015380   \n",
       "2                                                0.998759   \n",
       "3                                                0.998977   \n",
       "4                                                0.998350   \n",
       "...                                                   ...   \n",
       "1045                                             0.016454   \n",
       "1046                                             0.998351   \n",
       "1047                                             0.998958   \n",
       "1048                                             0.998697   \n",
       "1049                                             0.001330   \n",
       "\n",
       "         p(Entl)_ivankud-deberta-v3-large-tasksource-nli  \\\n",
       "line_id                                                    \n",
       "0                                               0.003330   \n",
       "1                                               0.983818   \n",
       "2                                               0.000613   \n",
       "3                                               0.000590   \n",
       "4                                               0.001113   \n",
       "...                                                  ...   \n",
       "1045                                            0.982488   \n",
       "1046                                            0.001386   \n",
       "1047                                            0.000773   \n",
       "1048                                            0.000720   \n",
       "1049                                            0.997932   \n",
       "\n",
       "         p(Contr)_ivankud-DeBERTa-v3-large-mnli-fever-anli-ling-wanli  \\\n",
       "line_id                                                                 \n",
       "0                                                 0.999554              \n",
       "1                                                 0.004416              \n",
       "2                                                 0.999784              \n",
       "3                                                 0.999668              \n",
       "4                                                 0.999649              \n",
       "...                                                    ...              \n",
       "1045                                              0.051092              \n",
       "1046                                              0.998442              \n",
       "1047                                              0.998919              \n",
       "1048                                              0.998234              \n",
       "1049                                              0.009113              \n",
       "\n",
       "         p(Entl)_ivankud-DeBERTa-v3-large-mnli-fever-anli-ling-wanli  \n",
       "line_id                                                               \n",
       "0                                                 0.000191            \n",
       "1                                                 0.995197            \n",
       "2                                                 0.000111            \n",
       "3                                                 0.000289            \n",
       "4                                                 0.000311            \n",
       "...                                                    ...            \n",
       "1045                                              0.947630            \n",
       "1046                                              0.001362            \n",
       "1047                                              0.000903            \n",
       "1048                                              0.001385            \n",
       "1049                                              0.989952            \n",
       "\n",
       "[1050 rows x 9 columns]"
      ]
     },
     "metadata": {},
     "output_type": "display_data"
    },
    {
     "data": {
      "text/html": [
       "<div>\n",
       "<style scoped>\n",
       "    .dataframe tbody tr th:only-of-type {\n",
       "        vertical-align: middle;\n",
       "    }\n",
       "\n",
       "    .dataframe tbody tr th {\n",
       "        vertical-align: top;\n",
       "    }\n",
       "\n",
       "    .dataframe thead th {\n",
       "        text-align: right;\n",
       "    }\n",
       "</style>\n",
       "<table border=\"1\" class=\"dataframe\">\n",
       "  <thead>\n",
       "    <tr style=\"text-align: right;\">\n",
       "      <th></th>\n",
       "      <th>is_hallucination</th>\n",
       "    </tr>\n",
       "    <tr>\n",
       "      <th>line_id</th>\n",
       "      <th></th>\n",
       "    </tr>\n",
       "  </thead>\n",
       "  <tbody>\n",
       "    <tr>\n",
       "      <th>0</th>\n",
       "      <td>1</td>\n",
       "    </tr>\n",
       "    <tr>\n",
       "      <th>1</th>\n",
       "      <td>0</td>\n",
       "    </tr>\n",
       "    <tr>\n",
       "      <th>2</th>\n",
       "      <td>1</td>\n",
       "    </tr>\n",
       "    <tr>\n",
       "      <th>3</th>\n",
       "      <td>1</td>\n",
       "    </tr>\n",
       "    <tr>\n",
       "      <th>4</th>\n",
       "      <td>1</td>\n",
       "    </tr>\n",
       "    <tr>\n",
       "      <th>...</th>\n",
       "      <td>...</td>\n",
       "    </tr>\n",
       "    <tr>\n",
       "      <th>1045</th>\n",
       "      <td>0</td>\n",
       "    </tr>\n",
       "    <tr>\n",
       "      <th>1046</th>\n",
       "      <td>1</td>\n",
       "    </tr>\n",
       "    <tr>\n",
       "      <th>1047</th>\n",
       "      <td>1</td>\n",
       "    </tr>\n",
       "    <tr>\n",
       "      <th>1048</th>\n",
       "      <td>1</td>\n",
       "    </tr>\n",
       "    <tr>\n",
       "      <th>1049</th>\n",
       "      <td>0</td>\n",
       "    </tr>\n",
       "  </tbody>\n",
       "</table>\n",
       "<p>1050 rows × 1 columns</p>\n",
       "</div>"
      ],
      "text/plain": [
       "         is_hallucination\n",
       "line_id                  \n",
       "0                       1\n",
       "1                       0\n",
       "2                       1\n",
       "3                       1\n",
       "4                       1\n",
       "...                   ...\n",
       "1045                    0\n",
       "1046                    1\n",
       "1047                    1\n",
       "1048                    1\n",
       "1049                    0\n",
       "\n",
       "[1050 rows x 1 columns]"
      ]
     },
     "metadata": {},
     "output_type": "display_data"
    }
   ],
   "source": [
    "X = pd.read_csv(TRAIN_DATA_PATH / 'data_X.csv', index_col='line_id')\n",
    "y = pd.read_csv(TRAIN_DATA_PATH / 'data_y.csv', index_col='line_id')\n",
    "\n",
    "display(X)\n",
    "display(y)"
   ]
  },
  {
   "cell_type": "markdown",
   "metadata": {},
   "source": [
    "# Manual search hyperparameters"
   ]
  },
  {
   "cell_type": "code",
   "execution_count": 14,
   "metadata": {},
   "outputs": [
    {
     "data": {
      "application/vnd.jupyter.widget-view+json": {
       "model_id": "1260953620ae4e698e651396a6e677d1",
       "version_major": 2,
       "version_minor": 0
      },
      "text/plain": [
       "MetricVisualizer(layout=Layout(align_self='stretch', height='500px'))"
      ]
     },
     "metadata": {},
     "output_type": "display_data"
    },
    {
     "name": "stdout",
     "output_type": "stream",
     "text": [
      "Training on fold [0/10]\n",
      "bestTest = 0.1663996499\n",
      "bestIteration = 160\n",
      "Training on fold [1/10]\n",
      "bestTest = 0.03978076971\n",
      "bestIteration = 947\n",
      "Training on fold [2/10]\n",
      "bestTest = 0.06994395483\n",
      "bestIteration = 999\n",
      "Training on fold [3/10]\n",
      "bestTest = 0.1988143194\n",
      "bestIteration = 132\n",
      "Training on fold [4/10]\n",
      "bestTest = 0.09780458723\n",
      "bestIteration = 417\n",
      "Training on fold [5/10]\n",
      "bestTest = 0.1106813158\n",
      "bestIteration = 216\n",
      "Training on fold [6/10]\n",
      "bestTest = 0.2760734921\n",
      "bestIteration = 61\n",
      "Training on fold [7/10]\n",
      "bestTest = 0.2032561348\n",
      "bestIteration = 110\n",
      "Training on fold [8/10]\n",
      "bestTest = 0.1836283757\n",
      "bestIteration = 114\n",
      "Training on fold [9/10]\n",
      "bestTest = 0.242260126\n",
      "bestIteration = 78\n"
     ]
    }
   ],
   "source": [
    "if MANUAL_FIND_HYPERPARAMETERS:\n",
    "    # initialize Pool\n",
    "    train_pool = cb.Pool(X, y['is_hallucination'])\n",
    "\n",
    "    # Initialize CV\n",
    "    params = {\n",
    "        'learning_rate': 0.02,\n",
    "        # 'depth': 4,\n",
    "        # 'l2_leaf_reg': 0.4989834106858575,\n",
    "        # 'leaf_estimation_iterations': 7,\n",
    "        # 'bagging_temperature': 0.8178179786826862,\n",
    "\n",
    "        'iterations': 1000,\n",
    "        'early_stopping_rounds': 200,\n",
    "        'od_pval': 0.001,\n",
    "        'loss_function': 'Logloss',\n",
    "        'verbose': False,\n",
    "        'task_type': 'GPU',\n",
    "    }\n",
    "    scores = cb.cv(\n",
    "        train_pool,\n",
    "        params,\n",
    "        fold_count=10,\n",
    "        plot=True,\n",
    "        seed=RANDOM_SEED,\n",
    "        shuffle=True,\n",
    "        stratified=True,\n",
    "        as_pandas=True,\n",
    "    )"
   ]
  },
  {
   "cell_type": "code",
   "execution_count": 15,
   "metadata": {},
   "outputs": [
    {
     "name": "stdout",
     "output_type": "stream",
     "text": [
      "156\n",
      "0.1666427984609412\n",
      "7.5e-02\n"
     ]
    },
    {
     "data": {
      "image/png": "[encoded data removed]",
      "text/plain": [
       "<Figure size 640x480 with 1 Axes>"
      ]
     },
     "metadata": {},
     "output_type": "display_data"
    }
   ],
   "source": [
    "if MANUAL_FIND_HYPERPARAMETERS:\n",
    "    best_iter = scores['test-Logloss-mean'].argmin()\n",
    "    print(best_iter)\n",
    "    print(scores.at[best_iter, 'test-Logloss-mean'])\n",
    "    print(f\"{scores.at[best_iter, 'test-Logloss-std']:.1e}\")\n",
    "    scores['test-Logloss-mean'].plot(ylim=[0.1, 0.3], grid=True);"
   ]
  },
  {
   "cell_type": "code",
   "execution_count": 16,
   "metadata": {},
   "outputs": [
    {
     "data": {
      "image/png": "[encoded data removed]",
      "text/plain": [
       "<Figure size 640x480 with 1 Axes>"
      ]
     },
     "metadata": {},
     "output_type": "display_data"
    }
   ],
   "source": [
    "if MANUAL_FIND_HYPERPARAMETERS:\n",
    "    scores['test-Logloss-std'].plot(grid=True);"
   ]
  },
  {
   "cell_type": "markdown",
   "metadata": {},
   "source": [
    "# Auto search hyperparameters"
   ]
  },
  {
   "cell_type": "code",
   "execution_count": 18,
   "metadata": {
    "execution": {
     "iopub.execute_input": "2024-04-02T07:49:42.195558Z",
     "iopub.status.busy": "2024-04-02T07:49:42.195325Z",
     "iopub.status.idle": "2024-04-02T07:49:42.202476Z",
     "shell.execute_reply": "2024-04-02T07:49:42.202004Z"
    }
   },
   "outputs": [],
   "source": [
    "def objective(trial):\n",
    "    params = {\n",
    "        'learning_rate': trial.suggest_loguniform('lr', 0.001, 1.0),\n",
    "        'depth': trial.suggest_int('depth', 3, 14),\n",
    "        'l2_leaf_reg': trial.suggest_uniform('l2_leaf_reg', 0.1, 10.0),\n",
    "        'leaf_estimation_iterations': trial.suggest_int('leaf_est_it', 1, 10),\n",
    "        'bagging_temperature': trial.suggest_uniform('bagging_temp', 0.0, 1.0),\n",
    "\n",
    "        'iterations': 1000,\n",
    "        'early_stopping_rounds': 100,\n",
    "        'od_pval': 0.001,\n",
    "\n",
    "        'loss_function': 'Logloss',\n",
    "        'verbose': False,\n",
    "        'task_type': 'GPU',\n",
    "    }\n",
    "\n",
    "    # Cross validation\n",
    "    train_pool = cb.Pool(X, y['is_hallucination'])\n",
    "    scores = cb.cv(\n",
    "        train_pool,\n",
    "        params,\n",
    "        fold_count=3,\n",
    "        plot=False,\n",
    "        seed=RANDOM_SEED,\n",
    "        shuffle=True,\n",
    "        stratified=True,\n",
    "        as_pandas=True,\n",
    "    )\n",
    "    logloss = scores['test-Logloss-mean'].min()\n",
    "\n",
    "    return logloss\n",
    "\n",
    "\n",
    "best_params = {}\n",
    "if AUTO_FIND_HYPERPARAMETERS:\n",
    "    study = optuna.create_study(direction='minimize')\n",
    "    study.optimize(objective, n_trials=100)\n",
    "\n",
    "    print(\"Best trial:\", study.best_trial.number)\n",
    "    print(\"Best metric:\", study.best_trial.value)\n",
    "    print(\"Best hyperparameters:\", study.best_params)\n",
    "\n",
    "    best_params = study.best_params\n",
    "else:\n",
    "    best_params = {'lr': 0.01740375272833612, 'depth': 4, 'l2_leaf_reg': 0.4989834106858575, 'leaf_est_it': 7, 'bagging_temp': 0.8178179786826862}\n",
    "    "
   ]
  },
  {
   "cell_type": "code",
   "execution_count": 19,
   "metadata": {
    "execution": {
     "iopub.execute_input": "2024-04-02T07:49:42.204824Z",
     "iopub.status.busy": "2024-04-02T07:49:42.204603Z",
     "iopub.status.idle": "2024-04-02T07:49:42.207649Z",
     "shell.execute_reply": "2024-04-02T07:49:42.207185Z"
    }
   },
   "outputs": [
    {
     "name": "stdout",
     "output_type": "stream",
     "text": [
      "Best hyperparameters: {'lr': 0.01740375272833612, 'depth': 4, 'l2_leaf_reg': 0.4989834106858575, 'leaf_est_it': 7, 'bagging_temp': 0.8178179786826862}\n"
     ]
    }
   ],
   "source": [
    "print(\"Best hyperparameters:\", best_params)"
   ]
  },
  {
   "cell_type": "markdown",
   "metadata": {},
   "source": [
    "## Evaluate on validation sample"
   ]
  },
  {
   "cell_type": "code",
   "execution_count": 20,
   "metadata": {
    "execution": {
     "iopub.execute_input": "2024-04-02T07:49:42.210396Z",
     "iopub.status.busy": "2024-04-02T07:49:42.210077Z",
     "iopub.status.idle": "2024-04-02T07:49:42.215670Z",
     "shell.execute_reply": "2024-04-02T07:49:42.215186Z"
    }
   },
   "outputs": [
    {
     "name": "stdout",
     "output_type": "stream",
     "text": [
      "Accuracy: 0.9438134978229319\n"
     ]
    }
   ],
   "source": [
    "if EVALUATE_ON_VAL:\n",
    "    params = {\n",
    "        'learning_rate': 0.01740375272833612,\n",
    "        'depth': 4,\n",
    "        'l2_leaf_reg': 0.4989834106858575,\n",
    "        'leaf_estimation_iterations': 7,\n",
    "        'bagging_temperature': 0.8178179786826862,\n",
    "\n",
    "        'iterations': 200,\n",
    "        'loss_function': 'Logloss',\n",
    "        'verbose': False,\n",
    "        'task_type': 'GPU',\n",
    "    }\n",
    "\n",
    "    cv = RepeatedStratifiedKFold(n_splits=20, n_repeats=5, random_state=RANDOM_SEED)\n",
    "    model = cb.CatBoostClassifier(**params)\n",
    "    accuracy = []\n",
    "    for i, (train_index, test_index) in enumerate(cv.split(X, y['is_hallucination'])):\n",
    "        # Train\n",
    "        X_train = X.loc[train_index]\n",
    "        y_train = y.loc[train_index, 'is_hallucination']\n",
    "        model.fit(X_train, y_train)\n",
    "\n",
    "        # Predict\n",
    "        X_test = X.loc[test_index]\n",
    "        y_test = y.loc[test_index, 'is_hallucination']\n",
    "        y_pred = model.predict(X_test)\n",
    "\n",
    "        # Calc metric\n",
    "        accuracy.append(accuracy_score(y_test, y_pred))\n",
    "        \n",
    "    # Calc average metric\n",
    "    mean_accuracy = statistics.fmean(accuracy)\n",
    "    print('Accuracy:', mean_accuracy)"
   ]
  },
  {
   "cell_type": "markdown",
   "metadata": {},
   "source": [
    "## Train on 100 % of data"
   ]
  },
  {
   "cell_type": "code",
   "execution_count": 5,
   "metadata": {
    "execution": {
     "iopub.execute_input": "2024-04-02T07:49:42.223645Z",
     "iopub.status.busy": "2024-04-02T07:49:42.223419Z",
     "iopub.status.idle": "2024-04-02T07:49:42.226930Z",
     "shell.execute_reply": "2024-04-02T07:49:42.226344Z"
    }
   },
   "outputs": [],
   "source": [
    "params = {\n",
    "    'learning_rate': 0.01740375272833612,\n",
    "    'depth': 4,\n",
    "    'l2_leaf_reg': 0.4989834106858575,\n",
    "    'leaf_estimation_iterations': 7,\n",
    "    'bagging_temperature': 0.8178179786826862,\n",
    "\n",
    "    'iterations': 200,\n",
    "    'loss_function': 'Logloss',\n",
    "    'verbose': False,\n",
    "    'task_type': 'GPU',\n",
    "}\n",
    "\n",
    "model = cb.CatBoostClassifier(**params)\n",
    "model.fit(X, y['is_hallucination'], plot=False);"
   ]
  },
  {
   "cell_type": "markdown",
   "metadata": {},
   "source": [
    "## Save model"
   ]
  },
  {
   "cell_type": "code",
   "execution_count": 6,
   "metadata": {},
   "outputs": [],
   "source": [
    "METAMODEL_PATH.mkdir(parents=True, exist_ok=True)\n",
    "model.save_model(METAMODEL_PATH / 'metamodel.cbm')"
   ]
  },
  {
   "cell_type": "markdown",
   "metadata": {},
   "source": [
    "## Load model"
   ]
  },
  {
   "cell_type": "code",
   "execution_count": 7,
   "metadata": {},
   "outputs": [],
   "source": [
    "model = cb.CatBoostClassifier()\n",
    "model.load_model(METAMODEL_PATH / 'metamodel.cbm');"
   ]
  },
  {
   "cell_type": "markdown",
   "metadata": {},
   "source": [
    "## Predict training sample"
   ]
  },
  {
   "cell_type": "code",
   "execution_count": 10,
   "metadata": {
    "execution": {
     "iopub.execute_input": "2024-04-02T07:49:42.229360Z",
     "iopub.status.busy": "2024-04-02T07:49:42.229132Z",
     "iopub.status.idle": "2024-04-02T07:49:42.232454Z",
     "shell.execute_reply": "2024-04-02T07:49:42.231968Z"
    }
   },
   "outputs": [
    {
     "data": {
      "text/plain": [
       "array([1, 0, 1, ..., 1, 1, 0])"
      ]
     },
     "execution_count": 10,
     "metadata": {},
     "output_type": "execute_result"
    }
   ],
   "source": [
    "pred_labels = model.predict(X)\n",
    "pred_labels"
   ]
  },
  {
   "cell_type": "markdown",
   "metadata": {},
   "source": [
    "# Feature importance"
   ]
  },
  {
   "cell_type": "code",
   "execution_count": 11,
   "metadata": {
    "execution": {
     "iopub.execute_input": "2024-04-02T08:39:57.939390Z",
     "iopub.status.busy": "2024-04-02T08:39:57.939163Z",
     "iopub.status.idle": "2024-04-02T08:39:57.969022Z",
     "shell.execute_reply": "2024-04-02T08:39:57.968477Z"
    }
   },
   "outputs": [
    {
     "data": {
      "text/html": [
       "<div>\n",
       "<style scoped>\n",
       "    .dataframe tbody tr th:only-of-type {\n",
       "        vertical-align: middle;\n",
       "    }\n",
       "\n",
       "    .dataframe tbody tr th {\n",
       "        vertical-align: top;\n",
       "    }\n",
       "\n",
       "    .dataframe thead th {\n",
       "        text-align: right;\n",
       "    }\n",
       "</style>\n",
       "<table border=\"1\" class=\"dataframe\">\n",
       "  <thead>\n",
       "    <tr style=\"text-align: right;\">\n",
       "      <th></th>\n",
       "      <th>feature_importance</th>\n",
       "      <th>feature_names</th>\n",
       "    </tr>\n",
       "  </thead>\n",
       "  <tbody>\n",
       "    <tr>\n",
       "      <th>6</th>\n",
       "      <td>22.704250</td>\n",
       "      <td>p(Entl)_ivankud-deberta-v3-large-tasksource-nli</td>\n",
       "    </tr>\n",
       "    <tr>\n",
       "      <th>5</th>\n",
       "      <td>14.949132</td>\n",
       "      <td>p(Contr)_ivankud-deberta-v3-large-tasksource-nli</td>\n",
       "    </tr>\n",
       "    <tr>\n",
       "      <th>8</th>\n",
       "      <td>10.737872</td>\n",
       "      <td>p(Entl)_ivankud-DeBERTa-v3-large-mnli-fever-an...</td>\n",
       "    </tr>\n",
       "    <tr>\n",
       "      <th>7</th>\n",
       "      <td>10.262242</td>\n",
       "      <td>p(Contr)_ivankud-DeBERTa-v3-large-mnli-fever-a...</td>\n",
       "    </tr>\n",
       "    <tr>\n",
       "      <th>4</th>\n",
       "      <td>9.519372</td>\n",
       "      <td>p(Entl)_ivankud-deberta-v2-xlarge-mnli</td>\n",
       "    </tr>\n",
       "    <tr>\n",
       "      <th>2</th>\n",
       "      <td>9.281647</td>\n",
       "      <td>a_len</td>\n",
       "    </tr>\n",
       "    <tr>\n",
       "      <th>3</th>\n",
       "      <td>7.680024</td>\n",
       "      <td>p(Contr)_ivankud-deberta-v2-xlarge-mnli</td>\n",
       "    </tr>\n",
       "    <tr>\n",
       "      <th>0</th>\n",
       "      <td>7.627595</td>\n",
       "      <td>s_len</td>\n",
       "    </tr>\n",
       "    <tr>\n",
       "      <th>1</th>\n",
       "      <td>7.237867</td>\n",
       "      <td>q_len</td>\n",
       "    </tr>\n",
       "  </tbody>\n",
       "</table>\n",
       "</div>"
      ],
      "text/plain": [
       "   feature_importance                                      feature_names\n",
       "6           22.704250    p(Entl)_ivankud-deberta-v3-large-tasksource-nli\n",
       "5           14.949132   p(Contr)_ivankud-deberta-v3-large-tasksource-nli\n",
       "8           10.737872  p(Entl)_ivankud-DeBERTa-v3-large-mnli-fever-an...\n",
       "7           10.262242  p(Contr)_ivankud-DeBERTa-v3-large-mnli-fever-a...\n",
       "4            9.519372             p(Entl)_ivankud-deberta-v2-xlarge-mnli\n",
       "2            9.281647                                              a_len\n",
       "3            7.680024            p(Contr)_ivankud-deberta-v2-xlarge-mnli\n",
       "0            7.627595                                              s_len\n",
       "1            7.237867                                              q_len"
      ]
     },
     "metadata": {},
     "output_type": "display_data"
    }
   ],
   "source": [
    "display(pd.DataFrame({\n",
    "    'feature_importance': model.get_feature_importance(), \n",
    "    'feature_names': X.columns,\n",
    "}).sort_values(by=['feature_importance'], ascending=False))"
   ]
  }
 ],
 "metadata": {
  "kernelspec": {
   "display_name": ".venv",
   "language": "python",
   "name": "python3"
  },
  "language_info": {
   "codemirror_mode": {
    "name": "ipython",
    "version": 3
   },
   "file_extension": ".py",
   "mimetype": "text/x-python",
   "name": "python",
   "nbconvert_exporter": "python",
   "pygments_lexer": "ipython3",
   "version": "3.10.14"
  }
 },
 "nbformat": 4,
 "nbformat_minor": 2
}
