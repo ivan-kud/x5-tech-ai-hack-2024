{
 "cells": [
  {
   "cell_type": "code",
   "execution_count": 1,
   "metadata": {},
   "outputs": [],
   "source": [
    "from pathlib import Path\n",
    "\n",
    "import pandas as pd"
   ]
  },
  {
   "cell_type": "code",
   "execution_count": 2,
   "metadata": {},
   "outputs": [],
   "source": [
    "DATA_PATH = Path('../data/')"
   ]
  },
  {
   "cell_type": "markdown",
   "metadata": {},
   "source": [
    "# Load data"
   ]
  },
  {
   "cell_type": "code",
   "execution_count": 3,
   "metadata": {},
   "outputs": [
    {
     "name": "stdout",
     "output_type": "stream",
     "text": [
      "<class 'pandas.core.frame.DataFrame'>\n",
      "Index: 1050 entries, 0 to 1049\n",
      "Data columns (total 4 columns):\n",
      " #   Column            Non-Null Count  Dtype \n",
      "---  ------            --------------  ----- \n",
      " 0   summary           1050 non-null   object\n",
      " 1   question          1050 non-null   object\n",
      " 2   answer            1050 non-null   object\n",
      " 3   is_hallucination  1050 non-null   int64 \n",
      "dtypes: int64(1), object(3)\n",
      "memory usage: 41.0+ KB\n"
     ]
    },
    {
     "data": {
      "text/plain": [
       "None"
      ]
     },
     "metadata": {},
     "output_type": "display_data"
    },
    {
     "data": {
      "text/html": [
       "<div>\n",
       "<style scoped>\n",
       "    .dataframe tbody tr th:only-of-type {\n",
       "        vertical-align: middle;\n",
       "    }\n",
       "\n",
       "    .dataframe tbody tr th {\n",
       "        vertical-align: top;\n",
       "    }\n",
       "\n",
       "    .dataframe thead th {\n",
       "        text-align: right;\n",
       "    }\n",
       "</style>\n",
       "<table border=\"1\" class=\"dataframe\">\n",
       "  <thead>\n",
       "    <tr style=\"text-align: right;\">\n",
       "      <th></th>\n",
       "      <th>summary</th>\n",
       "      <th>question</th>\n",
       "      <th>answer</th>\n",
       "      <th>is_hallucination</th>\n",
       "    </tr>\n",
       "    <tr>\n",
       "      <th>line_id</th>\n",
       "      <th></th>\n",
       "      <th></th>\n",
       "      <th></th>\n",
       "      <th></th>\n",
       "    </tr>\n",
       "  </thead>\n",
       "  <tbody>\n",
       "    <tr>\n",
       "      <th>0</th>\n",
       "      <td>Херманус Питер (Дик) Логгере (нидерл. Hermanus...</td>\n",
       "      <td>В каком городе проходил чемпионат мира по хокк...</td>\n",
       "      <td>В Хилверсюме.</td>\n",
       "      <td>1</td>\n",
       "    </tr>\n",
       "    <tr>\n",
       "      <th>1</th>\n",
       "      <td>Ходуткинские горячие источники (Худутские горя...</td>\n",
       "      <td>Как называется район в который входят источники?</td>\n",
       "      <td>Елизовским районом</td>\n",
       "      <td>0</td>\n",
       "    </tr>\n",
       "    <tr>\n",
       "      <th>2</th>\n",
       "      <td>Чёрная вдова (лат. Latrodectus mactans) — вид ...</td>\n",
       "      <td>Для кого опасны пауки-бокоходы?</td>\n",
       "      <td>Для рыб.</td>\n",
       "      <td>1</td>\n",
       "    </tr>\n",
       "    <tr>\n",
       "      <th>3</th>\n",
       "      <td>Рысь — река в России, протекает по территориям...</td>\n",
       "      <td>Какова длина реки Рысь?</td>\n",
       "      <td>5 км.</td>\n",
       "      <td>1</td>\n",
       "    </tr>\n",
       "    <tr>\n",
       "      <th>4</th>\n",
       "      <td>И́се (яп. 伊勢市), ранее Удзиямада — город в Япон...</td>\n",
       "      <td>Что такое Исе?</td>\n",
       "      <td>Исе — это небольшой город в Японии, который не...</td>\n",
       "      <td>1</td>\n",
       "    </tr>\n",
       "  </tbody>\n",
       "</table>\n",
       "</div>"
      ],
      "text/plain": [
       "                                                   summary  \\\n",
       "line_id                                                      \n",
       "0        Херманус Питер (Дик) Логгере (нидерл. Hermanus...   \n",
       "1        Ходуткинские горячие источники (Худутские горя...   \n",
       "2        Чёрная вдова (лат. Latrodectus mactans) — вид ...   \n",
       "3        Рысь — река в России, протекает по территориям...   \n",
       "4        И́се (яп. 伊勢市), ранее Удзиямада — город в Япон...   \n",
       "\n",
       "                                                  question  \\\n",
       "line_id                                                      \n",
       "0        В каком городе проходил чемпионат мира по хокк...   \n",
       "1         Как называется район в который входят источники?   \n",
       "2                          Для кого опасны пауки-бокоходы?   \n",
       "3                                  Какова длина реки Рысь?   \n",
       "4                                           Что такое Исе?   \n",
       "\n",
       "                                                    answer  is_hallucination  \n",
       "line_id                                                                       \n",
       "0                                            В Хилверсюме.                 1  \n",
       "1                                       Елизовским районом                 0  \n",
       "2                                                 Для рыб.                 1  \n",
       "3                                                    5 км.                 1  \n",
       "4        Исе — это небольшой город в Японии, который не...                 1  "
      ]
     },
     "execution_count": 3,
     "metadata": {},
     "output_type": "execute_result"
    }
   ],
   "source": [
    "# Load\n",
    "df = pd.read_csv(DATA_PATH / 'train.csv', index_col='line_id')\n",
    "\n",
    "# Preprocess\n",
    "df['answer'] = df['answer'].str.slice(stop=500)\n",
    "\n",
    "# Display\n",
    "display(df.info())\n",
    "df.head()"
   ]
  },
  {
   "cell_type": "markdown",
   "metadata": {},
   "source": [
    "## Class balance"
   ]
  },
  {
   "cell_type": "code",
   "execution_count": 4,
   "metadata": {},
   "outputs": [
    {
     "data": {
      "text/plain": [
       "is_hallucination\n",
       "1    532\n",
       "0    518\n",
       "Name: count, dtype: int64"
      ]
     },
     "execution_count": 4,
     "metadata": {},
     "output_type": "execute_result"
    }
   ],
   "source": [
    "df['is_hallucination'].value_counts()"
   ]
  },
  {
   "cell_type": "markdown",
   "metadata": {},
   "source": [
    "## Length distribution"
   ]
  },
  {
   "cell_type": "code",
   "execution_count": 5,
   "metadata": {},
   "outputs": [
    {
     "data": {
      "text/plain": [
       "line_id\n",
       "205       41\n",
       "199       47\n",
       "153       58\n",
       "1027      58\n",
       "119       60\n",
       "        ... \n",
       "50      2048\n",
       "225     2048\n",
       "813     2048\n",
       "96      2048\n",
       "47      2048\n",
       "Name: summary, Length: 1050, dtype: int64"
      ]
     },
     "execution_count": 5,
     "metadata": {},
     "output_type": "execute_result"
    },
    {
     "data": {
      "image/png": "[encoded data removed]",
      "text/plain": [
       "<Figure size 640x480 with 1 Axes>"
      ]
     },
     "metadata": {},
     "output_type": "display_data"
    }
   ],
   "source": [
    "df['summary'].str.len().hist()\n",
    "df['summary'].str.len().sort_values()"
   ]
  },
  {
   "cell_type": "code",
   "execution_count": 6,
   "metadata": {},
   "outputs": [
    {
     "data": {
      "text/plain": [
       "line_id\n",
       "212      6\n",
       "387     11\n",
       "506     11\n",
       "278     11\n",
       "371     11\n",
       "      ... \n",
       "583    106\n",
       "392    111\n",
       "565    130\n",
       "111    156\n",
       "775    167\n",
       "Name: question, Length: 1050, dtype: int64"
      ]
     },
     "execution_count": 6,
     "metadata": {},
     "output_type": "execute_result"
    },
    {
     "data": {
      "image/png": "[encoded data removed]",
      "text/plain": [
       "<Figure size 640x480 with 1 Axes>"
      ]
     },
     "metadata": {},
     "output_type": "display_data"
    }
   ],
   "source": [
    "df['question'].str.len().hist()\n",
    "df['question'].str.len().sort_values()"
   ]
  },
  {
   "cell_type": "code",
   "execution_count": 7,
   "metadata": {},
   "outputs": [
    {
     "data": {
      "text/plain": [
       "line_id\n",
       "306      1\n",
       "668      1\n",
       "791      1\n",
       "383      1\n",
       "961      1\n",
       "      ... \n",
       "496    374\n",
       "391    380\n",
       "966    382\n",
       "192    464\n",
       "899    500\n",
       "Name: answer, Length: 1050, dtype: int64"
      ]
     },
     "execution_count": 7,
     "metadata": {},
     "output_type": "execute_result"
    },
    {
     "data": {
      "image/png": "[encoded data removed]",
      "text/plain": [
       "<Figure size 640x480 with 1 Axes>"
      ]
     },
     "metadata": {},
     "output_type": "display_data"
    }
   ],
   "source": [
    "df['answer'].str.len().hist()\n",
    "df['answer'].str.len().sort_values()"
   ]
  },
  {
   "cell_type": "markdown",
   "metadata": {},
   "source": [
    "## Some checks"
   ]
  },
  {
   "cell_type": "code",
   "execution_count": 8,
   "metadata": {},
   "outputs": [
    {
     "data": {
      "text/plain": [
       "line_id\n",
       "81     Как её имя?\n",
       "212         Каким?\n",
       "278    Где он жил?\n",
       "365    Где родился\n",
       "371    Кто он был?\n",
       "387    Где родился\n",
       "395    Где родился\n",
       "506    Где родился\n",
       "653    Его работы?\n",
       "Name: question, dtype: object"
      ]
     },
     "execution_count": 8,
     "metadata": {},
     "output_type": "execute_result"
    }
   ],
   "source": [
    "df['question'].loc[df['question'].str.len() < 12]"
   ]
  },
  {
   "cell_type": "code",
   "execution_count": 9,
   "metadata": {},
   "outputs": [
    {
     "data": {
      "text/plain": [
       "line_id\n",
       "18         4\n",
       "23      1958\n",
       "27      1966\n",
       "31      2001\n",
       "43      2009\n",
       "        ... \n",
       "1012      22\n",
       "1026    1908\n",
       "1034     182\n",
       "1035     188\n",
       "1043      4%\n",
       "Name: answer, Length: 122, dtype: object"
      ]
     },
     "execution_count": 9,
     "metadata": {},
     "output_type": "execute_result"
    }
   ],
   "source": [
    "df['answer'].loc[df['answer'].str.len() < 5]"
   ]
  }
 ],
 "metadata": {
  "kernelspec": {
   "display_name": ".venv",
   "language": "python",
   "name": "python3"
  },
  "language_info": {
   "codemirror_mode": {
    "name": "ipython",
    "version": 3
   },
   "file_extension": ".py",
   "mimetype": "text/x-python",
   "name": "python",
   "nbconvert_exporter": "python",
   "pygments_lexer": "ipython3",
   "version": "3.11.9"
  }
 },
 "nbformat": 4,
 "nbformat_minor": 2
}
