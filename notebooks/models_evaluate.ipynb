{
 "cells": [
  {
   "cell_type": "code",
   "execution_count": 6,
   "metadata": {},
   "outputs": [],
   "source": [
    "from pathlib import Path\n",
    "import sys\n",
    "\n",
    "import pandas as pd\n",
    "\n",
    "sys.path.append(str(Path.cwd().parent))\n",
    "from utils import norm_probs"
   ]
  },
  {
   "cell_type": "code",
   "execution_count": 7,
   "metadata": {},
   "outputs": [],
   "source": [
    "DATA_PATH = Path('../data/')\n",
    "METAMODEL_DATA_PATH = Path('../metamodel/train-data/')"
   ]
  },
  {
   "cell_type": "code",
   "execution_count": 8,
   "metadata": {},
   "outputs": [
    {
     "name": "stdout",
     "output_type": "stream",
     "text": [
      "../metamodel/train-data/ivankud-deberta-v2-xlarge-mnli/probs.csv\n",
      "../metamodel/train-data/ivankud-deberta-v3-large-tasksource-nli/probs.csv\n",
      "../metamodel/train-data/ivankud-DeBERTa-v3-large-mnli-fever-anli-ling-wanli/probs.csv\n"
     ]
    }
   ],
   "source": [
    "# Read reference data\n",
    "ref_df = pd.read_csv(DATA_PATH / 'share'/ 'train.csv', index_col='line_id')\n",
    "\n",
    "scores = {'accuracy': [], 'threshold': []}\n",
    "model_names = []\n",
    "for model_path in [path for path in METAMODEL_DATA_PATH.iterdir() if path.is_dir()]:\n",
    "    for file_path in [path for path in model_path.iterdir() if path.is_file()]:\n",
    "        # Read model predition data\n",
    "        model_df = pd.read_csv(file_path, index_col='line_id')\n",
    "        \n",
    "        # Calculate hallucination probs\n",
    "        if 'p(Entl)' in model_df:\n",
    "            model_df['p(Halluc)'] = model_df.apply(lambda x: norm_probs(x['p(Contr)'], x['p(Entl)'])[0], axis=1)\n",
    "            model_df.drop(columns=['p(Entl)'], inplace=True)\n",
    "        else:\n",
    "            model_df['p(Halluc)'] = model_df['p(Contr)']\n",
    "        model_df.drop(columns=['p(Contr)'], inplace=True)\n",
    "\n",
    "        # Find best threshold and calculate accuracy\n",
    "        if model_df['p(Halluc)'].nunique() > 3:\n",
    "            best_threshold, best_accuracy = 0., 0.\n",
    "            for threshold in [x / 100. for x in range(101)]:\n",
    "                # Calculate accuracy\n",
    "                accuracy = ((model_df['p(Halluc)'] > threshold) == ref_df['is_hallucination']).sum() / len(model_df)\n",
    "                \n",
    "                # Update best values\n",
    "                if accuracy > best_accuracy:\n",
    "                    best_threshold, best_accuracy = threshold, accuracy\n",
    "        else:\n",
    "            threshold = 0.5\n",
    "            accuracy = ((model_df['p(Halluc)'] > threshold) == ref_df['is_hallucination']).sum() / len(model_df)\n",
    "            best_threshold, best_accuracy = threshold, accuracy\n",
    "\n",
    "        scores['threshold'].append(best_threshold)\n",
    "        scores['accuracy'].append(best_accuracy)\n",
    "        model_names.append(f'{model_path.parts[-1]}')\n",
    "        print(file_path)"
   ]
  },
  {
   "cell_type": "code",
   "execution_count": 9,
   "metadata": {},
   "outputs": [
    {
     "data": {
      "text/html": [
       "<div>\n",
       "<style scoped>\n",
       "    .dataframe tbody tr th:only-of-type {\n",
       "        vertical-align: middle;\n",
       "    }\n",
       "\n",
       "    .dataframe tbody tr th {\n",
       "        vertical-align: top;\n",
       "    }\n",
       "\n",
       "    .dataframe thead th {\n",
       "        text-align: right;\n",
       "    }\n",
       "</style>\n",
       "<table border=\"1\" class=\"dataframe\">\n",
       "  <thead>\n",
       "    <tr style=\"text-align: right;\">\n",
       "      <th></th>\n",
       "      <th>accuracy</th>\n",
       "      <th>threshold</th>\n",
       "    </tr>\n",
       "  </thead>\n",
       "  <tbody>\n",
       "    <tr>\n",
       "      <th>ivankud-deberta-v3-large-tasksource-nli</th>\n",
       "      <td>0.950476</td>\n",
       "      <td>0.32</td>\n",
       "    </tr>\n",
       "    <tr>\n",
       "      <th>ivankud-DeBERTa-v3-large-mnli-fever-anli-ling-wanli</th>\n",
       "      <td>0.935238</td>\n",
       "      <td>0.39</td>\n",
       "    </tr>\n",
       "    <tr>\n",
       "      <th>ivankud-deberta-v2-xlarge-mnli</th>\n",
       "      <td>0.930476</td>\n",
       "      <td>0.27</td>\n",
       "    </tr>\n",
       "  </tbody>\n",
       "</table>\n",
       "</div>"
      ],
      "text/plain": [
       "                                                    accuracy  threshold\n",
       "ivankud-deberta-v3-large-tasksource-nli             0.950476       0.32\n",
       "ivankud-DeBERTa-v3-large-mnli-fever-anli-ling-w...  0.935238       0.39\n",
       "ivankud-deberta-v2-xlarge-mnli                      0.930476       0.27"
      ]
     },
     "execution_count": 9,
     "metadata": {},
     "output_type": "execute_result"
    }
   ],
   "source": [
    "result = pd.DataFrame(scores, index=model_names)\n",
    "\n",
    "pd.set_option('display.max_rows', 100)\n",
    "result.sort_values('accuracy', ascending=False)"
   ]
  },
  {
   "cell_type": "markdown",
   "metadata": {},
   "source": [
    "# Plot Accuracy vs Threshold"
   ]
  },
  {
   "cell_type": "code",
   "execution_count": 10,
   "metadata": {},
   "outputs": [
    {
     "name": "stdout",
     "output_type": "stream",
     "text": [
      "best_threshold=0.39\n",
      "best_accuracy=0.9352380952380952\n"
     ]
    },
    {
     "data": {
      "image/png": "[encoded data removed]",
      "text/plain": [
       "<Figure size 640x480 with 1 Axes>"
      ]
     },
     "metadata": {},
     "output_type": "display_data"
    }
   ],
   "source": [
    "model_df = pd.read_csv(METAMODEL_DATA_PATH / 'ivankud-DeBERTa-v3-large-mnli-fever-anli-ling-wanli' / 'probs.csv', index_col='line_id')\n",
    "\n",
    "# Calculate hallucination probs\n",
    "if 'p(Entl)' in model_df:\n",
    "    model_df['p(Halluc)'] = model_df.apply(lambda x: norm_probs(x['p(Contr)'], x['p(Entl)'])[0], axis=1)\n",
    "    model_df.drop(columns=['p(Entl)'], inplace=True)\n",
    "else:\n",
    "    model_df['p(Halluc)'] = model_df['p(Contr)']\n",
    "model_df.drop(columns=['p(Contr)'], inplace=True)\n",
    "\n",
    "# Find best threshold\n",
    "score = {'threshold': [], 'accuracy': []}\n",
    "best_threshold, best_accuracy = 0., 0.\n",
    "for threshold in [x / 100. for x in range(101)]:\n",
    "    accuracy = ((model_df['p(Halluc)'] > threshold) == ref_df['is_hallucination']).sum() / len(model_df)\n",
    "    if accuracy > best_accuracy:\n",
    "        best_threshold = threshold\n",
    "        best_accuracy = accuracy\n",
    "    score['threshold'].append(threshold)\n",
    "    score['accuracy'].append(accuracy)\n",
    "\n",
    "pd.DataFrame(score).plot('threshold', 'accuracy')\n",
    "print(f'{best_threshold=}\\n{best_accuracy=}')"
   ]
  }
 ],
 "metadata": {
  "kernelspec": {
   "display_name": "Python 3",
   "language": "python",
   "name": "python3"
  },
  "language_info": {
   "codemirror_mode": {
    "name": "ipython",
    "version": 3
   },
   "file_extension": ".py",
   "mimetype": "text/x-python",
   "name": "python",
   "nbconvert_exporter": "python",
   "pygments_lexer": "ipython3",
   "version": "3.10.14"
  }
 },
 "nbformat": 4,
 "nbformat_minor": 2
}
